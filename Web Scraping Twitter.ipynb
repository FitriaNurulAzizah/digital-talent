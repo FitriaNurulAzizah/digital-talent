{
 "cells": [
  {
   "cell_type": "code",
   "execution_count": 1,
   "metadata": {},
   "outputs": [],
   "source": [
    "from twython import Twython\n",
    "import pandas as pd"
   ]
  },
  {
   "cell_type": "code",
   "execution_count": 2,
   "metadata": {},
   "outputs": [],
   "source": [
    "TWITTER_APP_KEY = \"bgAsjeaOjDhijVVNj0CKvmXd1\"\n",
    "TWITTER_APP_KEY_SECRET = \"i4ogIK1Pw0sHtPMve71JgzONGGz5osFNoKELQ31QmXdJZK6CJF\"\n",
    "TWITTER_ACCESS_TOKEN = \"946009581813039106-1p9P45cWrcjhgugctlTA48VzkxkoKxT\"\n",
    "TWITTER_ACCESS_TOKEN_SECRET = \"CXF8ijxLrF4T9KHXsNR8XhJx77uKARW9KGS0PtrOeYa4j\""
   ]
  },
  {
   "cell_type": "code",
   "execution_count": 3,
   "metadata": {},
   "outputs": [],
   "source": [
    "t = Twython(app_key=TWITTER_APP_KEY, \n",
    "            app_secret=TWITTER_APP_KEY_SECRET, \n",
    "            oauth_token=TWITTER_ACCESS_TOKEN, \n",
    "            oauth_token_secret=TWITTER_ACCESS_TOKEN_SECRET)"
   ]
  },
  {
   "cell_type": "code",
   "execution_count": 4,
   "metadata": {},
   "outputs": [],
   "source": [
    "#Query\n",
    "term = 'Chanyeol'\n",
    "tweet_metadatas = t.search(q=term,count=365,result_type='recent',lang='id')"
   ]
  },
  {
   "cell_type": "code",
   "execution_count": 5,
   "metadata": {},
   "outputs": [],
   "source": [
    "#Scrapping\n",
    "data_list = []\n",
    "for tweet in tweet_metadatas['statuses']:\n",
    "    meta = dict()\n",
    "    meta['tweet'] = tweet['text']\n",
    "    meta['timestamp'] = tweet['created_at']\n",
    "    meta['username'] = tweet['user']['screen_name']\n",
    "    \n",
    "    data_list.append(meta)\n",
    "    "
   ]
  },
  {
   "cell_type": "code",
   "execution_count": 6,
   "metadata": {},
   "outputs": [
    {
     "data": {
      "text/html": [
       "<div>\n",
       "<style scoped>\n",
       "    .dataframe tbody tr th:only-of-type {\n",
       "        vertical-align: middle;\n",
       "    }\n",
       "\n",
       "    .dataframe tbody tr th {\n",
       "        vertical-align: top;\n",
       "    }\n",
       "\n",
       "    .dataframe thead th {\n",
       "        text-align: right;\n",
       "    }\n",
       "</style>\n",
       "<table border=\"1\" class=\"dataframe\">\n",
       "  <thead>\n",
       "    <tr style=\"text-align: right;\">\n",
       "      <th></th>\n",
       "      <th>timestamp</th>\n",
       "      <th>tweet</th>\n",
       "      <th>username</th>\n",
       "    </tr>\n",
       "  </thead>\n",
       "  <tbody>\n",
       "    <tr>\n",
       "      <th>0</th>\n",
       "      <td>Fri Oct 26 00:12:58 +0000 2018</td>\n",
       "      <td>[bot] chanyeol sedang pergi ke negara api, sil...</td>\n",
       "      <td>SH_Chanyeol92</td>\n",
       "    </tr>\n",
       "    <tr>\n",
       "      <th>1</th>\n",
       "      <td>Fri Oct 26 00:12:38 +0000 2018</td>\n",
       "      <td>Chanyeol pandai bermain gitar akustik, gitar l...</td>\n",
       "      <td>nabilasobr</td>\n",
       "    </tr>\n",
       "    <tr>\n",
       "      <th>2</th>\n",
       "      <td>Fri Oct 26 00:12:03 +0000 2018</td>\n",
       "      <td>Juga terkenal dengan King of derp. Maknae pals...</td>\n",
       "      <td>piddio</td>\n",
       "    </tr>\n",
       "    <tr>\n",
       "      <th>3</th>\n",
       "      <td>Fri Oct 26 00:10:58 +0000 2018</td>\n",
       "      <td>RT @sehunsscent: 181025 #chanyeol omg 😱😱😱💗💗💗💗💗...</td>\n",
       "      <td>in2theLoeyland</td>\n",
       "    </tr>\n",
       "    <tr>\n",
       "      <th>4</th>\n",
       "      <td>Fri Oct 26 00:10:55 +0000 2018</td>\n",
       "      <td>RT @ERPEPOST: #rpt yok followan sama chanyeol,...</td>\n",
       "      <td>reaIpeceye</td>\n",
       "    </tr>\n",
       "  </tbody>\n",
       "</table>\n",
       "</div>"
      ],
      "text/plain": [
       "                        timestamp  \\\n",
       "0  Fri Oct 26 00:12:58 +0000 2018   \n",
       "1  Fri Oct 26 00:12:38 +0000 2018   \n",
       "2  Fri Oct 26 00:12:03 +0000 2018   \n",
       "3  Fri Oct 26 00:10:58 +0000 2018   \n",
       "4  Fri Oct 26 00:10:55 +0000 2018   \n",
       "\n",
       "                                               tweet        username  \n",
       "0  [bot] chanyeol sedang pergi ke negara api, sil...   SH_Chanyeol92  \n",
       "1  Chanyeol pandai bermain gitar akustik, gitar l...      nabilasobr  \n",
       "2  Juga terkenal dengan King of derp. Maknae pals...          piddio  \n",
       "3  RT @sehunsscent: 181025 #chanyeol omg 😱😱😱💗💗💗💗💗...  in2theLoeyland  \n",
       "4  RT @ERPEPOST: #rpt yok followan sama chanyeol,...      reaIpeceye  "
      ]
     },
     "execution_count": 6,
     "metadata": {},
     "output_type": "execute_result"
    }
   ],
   "source": [
    "#Visual\n",
    "data = pd.DataFrame(data_list)\n",
    "data.head()\n"
   ]
  },
  {
   "cell_type": "code",
   "execution_count": 7,
   "metadata": {},
   "outputs": [],
   "source": [
    "#Export\n",
    "writer = pd.ExcelWriter('resultchanyeol.xlsx')\n",
    "data.to_excel(writer,'Sheet1',index=False)\n",
    "writer.save()"
   ]
  },
  {
   "cell_type": "code",
   "execution_count": null,
   "metadata": {},
   "outputs": [],
   "source": []
  }
 ],
 "metadata": {
  "kernelspec": {
   "display_name": "Python 3",
   "language": "python",
   "name": "python3"
  },
  "language_info": {
   "codemirror_mode": {
    "name": "ipython",
    "version": 3
   },
   "file_extension": ".py",
   "mimetype": "text/x-python",
   "name": "python",
   "nbconvert_exporter": "python",
   "pygments_lexer": "ipython3",
   "version": "3.7.0"
  }
 },
 "nbformat": 4,
 "nbformat_minor": 2
}
