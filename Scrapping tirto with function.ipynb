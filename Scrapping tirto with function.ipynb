{
 "cells": [
  {
   "cell_type": "code",
   "execution_count": 8,
   "metadata": {},
   "outputs": [],
   "source": [
    "import requests\n",
    "from bs4 import BeautifulSoup \n",
    "import json\n",
    "from openpyxl import Workbook\n",
    "import time\n",
    "\n",
    "wb = Workbook()"
   ]
  },
  {
   "cell_type": "code",
   "execution_count": 10,
   "metadata": {},
   "outputs": [],
   "source": [
    "def crawl_link(i):\n",
    "    print(\"Crawling Indeks ke-\"+str(i))\n",
    "    page = requests.get(\"https://tirto.id/indeks/\"+str(i))\n",
    "    ws = wb.active\n",
    "    html_page = page.content\n",
    "    soup = BeautifulSoup(html_page, \"lxml\")\n",
    "    links = soup.find_all('script')\n",
    "    isi_script = links[4].text.replace('window.__NUXT__=','')[:-1]\n",
    "    article = json.loads(isi_script)\n",
    "    for a in article['data'][0]['listarticle']:\n",
    "        ws.append([a['judul'], \"https://tirto.id\"+a['articleUrl'], a['date_news']])"
   ]
  },
  {
   "cell_type": "code",
   "execution_count": 5,
   "metadata": {},
   "outputs": [],
   "source": []
  },
  {
   "cell_type": "code",
   "execution_count": null,
   "metadata": {},
   "outputs": [],
   "source": []
  }
 ],
 "metadata": {
  "kernelspec": {
   "display_name": "Python 3",
   "language": "python",
   "name": "python3"
  },
  "language_info": {
   "codemirror_mode": {
    "name": "ipython",
    "version": 3
   },
   "file_extension": ".py",
   "mimetype": "text/x-python",
   "name": "python",
   "nbconvert_exporter": "python",
   "pygments_lexer": "ipython3",
   "version": "3.7.0"
  }
 },
 "nbformat": 4,
 "nbformat_minor": 2
}
