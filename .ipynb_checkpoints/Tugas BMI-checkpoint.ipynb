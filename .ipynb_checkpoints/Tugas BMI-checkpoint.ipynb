{
 "cells": [
  {
   "cell_type": "markdown",
   "metadata": {},
   "source": [
    "Fitria Nurul Azizah\n",
    "\n",
    "Soal\n",
    "\n",
    "Body Mass Index (BMI) menentukan sebuah keidealan berat badan terhadap tinggi badan. Berikut adalah formula dari BMI : BMI = weight (kg) ÷ height^2 (m^2)\n",
    "\n",
    "Berikut adalah kategorisasi BMI\n",
    "\n",
    "|BMI                   | Kategori                  |\n",
    "|----------------------|---------------------------|\n",
    "|Kurang dari 15        |Very severely underweight  |\n",
    "|Diantara 15 dan 16    |Severely underweight       |\n",
    "|Diantara 16 dan 18.5  |Underweight                |\n",
    "|Diantara 18.5 dan 25  |Normal (healthy weight)    |\n",
    "|Diantara 25 dan 30    |Overweight                 |\n",
    "|Diantara 30 dan 35    |Moderately obese           |\n",
    "|Diantara 35 dan 40    |Severely obese             |\n",
    "|Over 40               |Very severely obese        |\n",
    " \n",
    "Buatlah sebuah program yang memiliki dua variabel berat badan dengan satuan KG, dan tinggi badan dengan satuan CM, kemudian keluaran dari program adalah Kategori BMI"
   ]
  },
  {
   "cell_type": "markdown",
   "metadata": {},
   "source": [
    "Jawaban"
   ]
  },
  {
   "cell_type": "code",
   "execution_count": 3,
   "metadata": {},
   "outputs": [
    {
     "name": "stdout",
     "output_type": "stream",
     "text": [
      "Masukan berat badan (kg)\t: 73\n",
      "Masukan tinggi badan (cm)\t: 156\n",
      "BMI\t\t\t\t: 29.996712689020377\n",
      "Kategori\t\t\t: Overweight\n"
     ]
    }
   ],
   "source": [
    "#Kode untuk menghitung BMI\n",
    "\n",
    "weight = float(input('Masukan berat badan (kg)\\t: '))\n",
    "height = float(input('Masukan tinggi badan (cm)\\t: '))\n",
    "tinggi_dalam_meter = height/100\n",
    "\n",
    "BMI = weight/(tinggi_dalam_meter**2)\n",
    "print(\"BMI\\t\\t\\t\\t:\",BMI)\n",
    "\n",
    "if BMI < 15:\n",
    "    print(\"Kategori\\t\\t\\t: Very severely underweight\")\n",
    "elif BMI >= 15 and BMI < 16:\n",
    "    print(\"Kategori\\t\\t\\t: Severely underweight\")\n",
    "elif BMI >= 16 and BMI < 18.5:\n",
    "    print(\"Kategori\\t\\t\\t: Underweight\")\n",
    "elif BMI >= 18.5 and BMI < 25:\n",
    "    print(\"Kategori\\t\\t\\t: Normal (healthy weight)\")\n",
    "elif BMI >= 25 and BMI < 30:\n",
    "    print(\"Kategori\\t\\t\\t: Overweight\")\n",
    "elif BMI >= 30 and BMI < 35:\n",
    "    print(\"Kategori\\t\\t\\t: Moderately obese\")\n",
    "elif BMI >= 35 and BMI <= 40:\n",
    "    print(\"Kategori\\t\\t\\t: Severely obese\")\n",
    "else: print(\"Kategori\\t\\t\\t: Very severely obese\")"
   ]
  },
  {
   "cell_type": "code",
   "execution_count": null,
   "metadata": {},
   "outputs": [],
   "source": []
  }
 ],
 "metadata": {
  "kernelspec": {
   "display_name": "Python 3",
   "language": "python",
   "name": "python3"
  },
  "language_info": {
   "codemirror_mode": {
    "name": "ipython",
    "version": 3
   },
   "file_extension": ".py",
   "mimetype": "text/x-python",
   "name": "python",
   "nbconvert_exporter": "python",
   "pygments_lexer": "ipython3",
   "version": "3.7.0"
  }
 },
 "nbformat": 4,
 "nbformat_minor": 2
}
