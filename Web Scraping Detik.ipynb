{
 "cells": [
  {
   "cell_type": "code",
   "execution_count": 5,
   "metadata": {},
   "outputs": [],
   "source": [
    "from bs4 import BeautifulSoup as bs\n",
    "import urllib"
   ]
  },
  {
   "cell_type": "code",
   "execution_count": 6,
   "metadata": {},
   "outputs": [
    {
     "name": "stdout",
     "output_type": "stream",
     "text": [
      "b'<!DOCTYPE html>\\n<html>\\n<head>\\n    <title>Indeks berita terbaru hari ini dari isu terkini di indonesia</title>\\n<meta name=\"description\" content=\"Indeks berita terbaru hari ini dari peristiwa, kecelakaan, kriminal, hukum, berita unik, Politik, dan liputan khusus di Indonesia dan Internasional\" itemprop=\"description\" />\\n<meta charset=\"utf-8\">\\n<meta http-equiv=\"X-UA-Compatible\" content=\"text/html; charset=UTF-8\" />\\n<meta name=\"viewport\" content=\"width=device-width, initial-scale=1.0\" />\\n<link href=\"https://plus.google.com/+detikcom\" rel=\"publisher\" />\\n\\n\\t\\t<meta property=\"og:type\" content=\"article\" />\\n\\t\\t<meta property=\"og:site_name\" content=\"detiknews\" />\\n\\t\\t<meta property=\"og:title\" content=\"Indeks berita terbaru hari ini dari isu terkini di indonesia\" />\\n\\t\\t<meta property=\"og:image\" content=\"https://akcdn.detik.net.id/logo_tematik/logodetiknews.png\" />\\n\\t\\t<meta property=\"og:description\" content=\"Indeks berita terbaru hari ini dari peristiwa, kecelakaan, kriminal, hukum, berita unik, Politik, dan liputan khusus di Indonesia dan Internasional\" />\\n\\t\\t<meta property=\"og:url\" content=\"https://news.detik.com/indeks/all\" />\\n\\t\\t<meta property=\"fb:app_id\" content=\"187960271237149\" />\\n\\t\\t<meta property=\"fb:admins\" content=\"100000607566694\" />\\n\\t\\t<meta property=\"og:image:type\" content=\"image/jpeg\" />\\n\\t\\t<meta property=\"og:image:width\" content=\"650\" />\\n\\t\\t<meta property=\"og:image:height\" content=\"366\" />\\n<meta name=\"copyright\" content=\"detiknews\" itemprop=\"dateline\" />\\n<meta name=\"p:domain_verify\" content=\"405e0728202749df914f7811375e18a0\" />\\n<meta name=\"robots\" content=\"index, follow\" />\\n<meta content=\"Indeks berita terbaru hari ini dari peristiwa, kecelakaan, kriminal, hukum, berita unik, Politik, dan liputan khusus di Indonesia dan Internasional\" itemprop=\"headline\" />\\n<meta name=\"keywords\" content=\"berita hari ini, berita terkini, info berita, peristiwa, kecelakaan, kriminal, hukum, berita unik, Politik, liputan khusus, Indonesia, Internasional\" itemprop=\"keywords\" />\\n<meta name=\"thumbn'...\n"
     ]
    }
   ],
   "source": [
    "url = 'https://news.detik.com/indeks/all'\n",
    "html = urllib.request.urlopen(url).read()\n",
    "print(str(html[:2000])+'...')"
   ]
  },
  {
   "cell_type": "code",
   "execution_count": 7,
   "metadata": {},
   "outputs": [
    {
     "data": {
      "text/plain": [
       "['https://news.detik.com/berita/d-4273678/muhammadiyah-imbau-warganya-tak-demo-protes-pembakaran-bendera-hti',\n",
       " 'https://news.detik.com/berita/d-4273675/terungkapnya-pembawa-bendera-hti-yang-berujung-pembakaran',\n",
       " 'https://news.detik.com/berita/d-4273659/gempa-m-51-guncang-sulut-tak-berpotensi-tsunami',\n",
       " 'https://news.detik.com/internasional/d-4273658/sempat-tertahan-putra-khashoggi-tinggalkan-arab-dan-menuju-as',\n",
       " 'https://news.detik.com/berita/d-4273646/tim-jokowi-sandiaga-dibandingkan-dengan-bung-hatta-ya-jauh-lah',\n",
       " 'https://news.detik.com/berita/d-4273632/perbaikan-air-bersih-di-sulteng-ditarget-kelar-desember-2018',\n",
       " 'https://news.detik.com/berita/d-4273630/tonton-blak-blakan-mendes-pdtt-dana-kelurahan-di-tahun-politik',\n",
       " 'https://news.detik.com/berita/d-4273627/ada-aksi-bela-tauhid-di-jakarta-hari-ini',\n",
       " 'https://news.detik.com/bbc-world/d-4273592/protes-pidato-putin-warga-rusia-memilih-surga-atau-mati',\n",
       " 'https://news.detik.com/berita/d-4273600/tabrak-tiang-traffic-light-pemotor-di-jakbar-tewas',\n",
       " 'https://news.detik.com/berita/d-4273599/seorang-pria-tewas-tertabrak-saat-perbaiki-mobil-di-tol-cililitan',\n",
       " 'https://news.detik.com/dw/d-4273595/nato-galang-latihan-perang-terbesar-pasca-perang-dingin',\n",
       " 'https://news.detik.com/berita/d-4273593/1043-tenda-sudah-dibangun-untuk-sekolah-darurat-di-sulteng',\n",
       " 'https://news.detik.com/internasional/d-4273589/bus-sekolah-dihantam-banjir-bandang-di-yordania-14-orang-tewas',\n",
       " 'https://news.detik.com/foto-news/d-4273578/penyuap-bupati-cirebon-malah-tersenyum-saat-ditahan-kpk',\n",
       " 'https://news.detik.com/berita/d-4273577/kasus-hoax-ratna-dihentikan-bawaslu-gnr-minta-prabowo-hati-hati',\n",
       " 'https://news.detik.com/foto-news/d-4273570/berompi-oranye-bupati-cirebon-masih-tetap-mengelak-suap',\n",
       " 'https://news.detik.com/berita/d-4273566/pemegang-visa-pelajar-diimbau-tunda-perjalanan-ke-yaman',\n",
       " 'https://news.detik.com/berita/d-4273563/ditahan-kpk-bupati-cirebon-bantah-terima-suap-jual-beli-jabatan']"
      ]
     },
     "execution_count": 7,
     "metadata": {},
     "output_type": "execute_result"
    }
   ],
   "source": [
    "soup = bs(html,'lxml')\n",
    "divs = soup.find_all('div', attrs={'class':'desc_idx ml10'})\n",
    "\n",
    "news_links = []\n",
    "for div in divs:\n",
    "    news_links.append(div.a['href'])\n",
    "news_links"
   ]
  },
  {
   "cell_type": "code",
   "execution_count": 8,
   "metadata": {},
   "outputs": [
    {
     "data": {
      "text/plain": [
       "['Muhammadiyah Imbau Warganya Tak Demo Protes Pembakaran Bendera HTI',\n",
       " 'Terungkapnya Pembawa Bendera HTI yang Berujung Pembakaran',\n",
       " 'Gempa M 5,1 Guncang Sulut, Tak Berpotensi Tsunami',\n",
       " 'Tim Jokowi: Sandiaga Dibandingkan dengan Bung Hatta? Ya Jauh Lah',\n",
       " 'Perbaikan Air Bersih di Sulteng Ditarget Kelar Desember 2018',\n",
       " 'Tonton Blak blakan Mendes PDTT, Dana Kelurahan di Tahun Politik\\xa0',\n",
       " 'Ada Aksi Bela Tauhid di Jakarta Hari ini',\n",
       " 'Tabrak Tiang Traffic Light, Pemotor di Jakbar Tewas',\n",
       " 'Seorang Pria Tewas Tertabrak Saat Perbaiki Mobil di Tol Cililitan',\n",
       " '1.043 Tenda Sudah Dibangun untuk Sekolah Darurat di Sulteng',\n",
       " 'Kasus Hoax Ratna Dihentikan Bawaslu, GNR Minta Prabowo Hati-hati',\n",
       " 'Pemegang Visa Pelajar Diimbau Tunda Perjalanan ke Yaman',\n",
       " 'Ditahan KPK, Bupati Cirebon Bantah Terima Suap Jual Beli Jabatan']"
      ]
     },
     "execution_count": 8,
     "metadata": {},
     "output_type": "execute_result"
    }
   ],
   "source": [
    "titles = []\n",
    "articles = []    \n",
    "for news_link in news_links:\n",
    "    if 'https://news.detik.com/berita' in news_link:\n",
    "        sub_url = news_link\n",
    "        sub_html = urllib.request.urlopen(sub_url).read()\n",
    "        sub_soup = bs(sub_html,'lxml')\n",
    "        \n",
    "        title = sub_soup.find_all('div', attrs={'class':'jdl'})[0].h1.text\n",
    "        article = sub_soup.find_all('div', attrs={'class':'detail_text'})[0].text\n",
    "        \n",
    "        titles.append(title)\n",
    "        articles.append(article)\n",
    "titles"
   ]
  },
  {
   "cell_type": "code",
   "execution_count": 9,
   "metadata": {},
   "outputs": [],
   "source": [
    "for page in range(2,10):\n",
    "    url = 'https://news.detik.com/indeks/all/'+str(page)\n",
    "    html = urllib.request.urlopen(url).read()\n",
    "    \n",
    "    soup = bs(html,'lxml')\n",
    "    divs = soup.find_all('div', attrs={'class':'desc_idx ml10'})\n",
    "    \n",
    "    news_links = []\n",
    "    for div in divs:\n",
    "        news_links.append(div.a['href'])\n",
    "        \n",
    "    for news_link in news_links:\n",
    "        if 'https://news.detik.com/berita' in news_link:\n",
    "            sub_url = news_link\n",
    "            sub_html = urllib.request.urlopen(sub_url).read()\n",
    "            sub_soup = bs(sub_html,'lxml')\n",
    "            \n",
    "            title = sub_soup.find_all('div', attrs={'class':'jdl'})[0].h1.text\n",
    "            article = sub_soup.find_all('div', attrs={'class':'detail_text'})[0].text\n",
    "            \n",
    "            titles.append(title)\n",
    "            articles.append(article)"
   ]
  },
  {
   "cell_type": "code",
   "execution_count": 10,
   "metadata": {},
   "outputs": [
    {
     "data": {
      "text/html": [
       "<div>\n",
       "<style scoped>\n",
       "    .dataframe tbody tr th:only-of-type {\n",
       "        vertical-align: middle;\n",
       "    }\n",
       "\n",
       "    .dataframe tbody tr th {\n",
       "        vertical-align: top;\n",
       "    }\n",
       "\n",
       "    .dataframe thead th {\n",
       "        text-align: right;\n",
       "    }\n",
       "</style>\n",
       "<table border=\"1\" class=\"dataframe\">\n",
       "  <thead>\n",
       "    <tr style=\"text-align: right;\">\n",
       "      <th></th>\n",
       "      <th>title</th>\n",
       "      <th>article</th>\n",
       "    </tr>\n",
       "  </thead>\n",
       "  <tbody>\n",
       "    <tr>\n",
       "      <th>0</th>\n",
       "      <td>Muhammadiyah Imbau Warganya Tak Demo Protes Pe...</td>\n",
       "      <td>\\n\\n\\n\\n\\nJakarta -\\n Polisi telah mengamankan...</td>\n",
       "    </tr>\n",
       "    <tr>\n",
       "      <th>1</th>\n",
       "      <td>Terungkapnya Pembawa Bendera HTI yang Berujung...</td>\n",
       "      <td>\\n\\n\\n\\n\\nJakarta -\\n Polisi akhirnya menemuka...</td>\n",
       "    </tr>\n",
       "    <tr>\n",
       "      <th>2</th>\n",
       "      <td>Gempa M 5,1 Guncang Sulut, Tak Berpotensi Tsunami</td>\n",
       "      <td>\\n\\n\\n\\n\\nJakarta -\\n Gempa bumi dengan kekuat...</td>\n",
       "    </tr>\n",
       "    <tr>\n",
       "      <th>3</th>\n",
       "      <td>Tim Jokowi: Sandiaga Dibandingkan dengan Bung ...</td>\n",
       "      <td>\\n\\n\\n\\n\\nJakarta -\\n Jubir pasangan capres-ca...</td>\n",
       "    </tr>\n",
       "    <tr>\n",
       "      <th>4</th>\n",
       "      <td>Perbaikan Air Bersih di Sulteng Ditarget Kelar...</td>\n",
       "      <td>\\n\\n\\n\\n\\nJakarta -\\n\\t\\t\\t\\t\\t\\t\\t\\t\\t\\t\\tSat...</td>\n",
       "    </tr>\n",
       "    <tr>\n",
       "      <th>5</th>\n",
       "      <td>Tonton Blak blakan Mendes PDTT, Dana Kelurahan...</td>\n",
       "      <td>\\n\\n\\n\\n\\nJakarta -\\n\\t\\t\\t\\t\\t\\t\\t\\t\\t\\t\\tRen...</td>\n",
       "    </tr>\n",
       "    <tr>\n",
       "      <th>6</th>\n",
       "      <td>Ada Aksi Bela Tauhid di Jakarta Hari ini</td>\n",
       "      <td>\\n\\n\\n\\n\\nJakarta -\\n Sejumlah orang akan mela...</td>\n",
       "    </tr>\n",
       "    <tr>\n",
       "      <th>7</th>\n",
       "      <td>Tabrak Tiang Traffic Light, Pemotor di Jakbar ...</td>\n",
       "      <td>\\n\\n\\n\\n\\nJakarta -\\n Seorang pengendara seped...</td>\n",
       "    </tr>\n",
       "    <tr>\n",
       "      <th>8</th>\n",
       "      <td>Seorang Pria Tewas Tertabrak Saat Perbaiki Mob...</td>\n",
       "      <td>\\n\\n\\n\\n\\nJakarta -\\n Seorang pria tewas akiba...</td>\n",
       "    </tr>\n",
       "    <tr>\n",
       "      <th>9</th>\n",
       "      <td>1.043 Tenda Sudah Dibangun untuk Sekolah Darur...</td>\n",
       "      <td>\\n\\n\\n\\n\\nJakarta -\\n\\t\\t\\t\\t\\t\\t\\t\\t\\t\\t\\tSat...</td>\n",
       "    </tr>\n",
       "    <tr>\n",
       "      <th>10</th>\n",
       "      <td>Kasus Hoax Ratna Dihentikan Bawaslu, GNR Minta...</td>\n",
       "      <td>\\n\\n\\n\\n\\nJakarta -\\n Garda Nasional untuk Rak...</td>\n",
       "    </tr>\n",
       "    <tr>\n",
       "      <th>11</th>\n",
       "      <td>Pemegang Visa Pelajar Diimbau Tunda Perjalanan...</td>\n",
       "      <td>\\n\\n\\n\\n\\nJakarta -\\n\\t\\t\\t\\t\\t\\t\\t\\t\\t\\t\\tPer...</td>\n",
       "    </tr>\n",
       "    <tr>\n",
       "      <th>12</th>\n",
       "      <td>Ditahan KPK, Bupati Cirebon Bantah Terima Suap...</td>\n",
       "      <td>\\n\\n\\n\\n\\nJakarta -\\n\\t\\t\\t\\t\\t\\t\\t\\t\\t\\t\\tKPK...</td>\n",
       "    </tr>\n",
       "    <tr>\n",
       "      <th>13</th>\n",
       "      <td>PT KAI Tertibkan 165 Bangunan di Kampung Banda...</td>\n",
       "      <td>\\n\\n\\n\\n\\nJakarta -\\n PT KAI menertibkan 165 b...</td>\n",
       "    </tr>\n",
       "    <tr>\n",
       "      <th>14</th>\n",
       "      <td>Ini Bendera yang Boleh Dibawa Peserta Istighot...</td>\n",
       "      <td>\\n\\n\\n\\n\\nSurabaya -\\n\\t\\t\\t\\t\\t\\t\\t\\t\\t\\t\\tIs...</td>\n",
       "    </tr>\n",
       "    <tr>\n",
       "      <th>15</th>\n",
       "      <td>Ditahan KPK, Penyuap Bupati Cirebon Tersenyum</td>\n",
       "      <td>\\n\\n\\n\\n\\nJakarta -\\n\\t\\t\\t\\t\\t\\t\\t\\t\\t\\t\\tSek...</td>\n",
       "    </tr>\n",
       "  </tbody>\n",
       "</table>\n",
       "</div>"
      ],
      "text/plain": [
       "                                                title  \\\n",
       "0   Muhammadiyah Imbau Warganya Tak Demo Protes Pe...   \n",
       "1   Terungkapnya Pembawa Bendera HTI yang Berujung...   \n",
       "2   Gempa M 5,1 Guncang Sulut, Tak Berpotensi Tsunami   \n",
       "3   Tim Jokowi: Sandiaga Dibandingkan dengan Bung ...   \n",
       "4   Perbaikan Air Bersih di Sulteng Ditarget Kelar...   \n",
       "5   Tonton Blak blakan Mendes PDTT, Dana Kelurahan...   \n",
       "6            Ada Aksi Bela Tauhid di Jakarta Hari ini   \n",
       "7   Tabrak Tiang Traffic Light, Pemotor di Jakbar ...   \n",
       "8   Seorang Pria Tewas Tertabrak Saat Perbaiki Mob...   \n",
       "9   1.043 Tenda Sudah Dibangun untuk Sekolah Darur...   \n",
       "10  Kasus Hoax Ratna Dihentikan Bawaslu, GNR Minta...   \n",
       "11  Pemegang Visa Pelajar Diimbau Tunda Perjalanan...   \n",
       "12  Ditahan KPK, Bupati Cirebon Bantah Terima Suap...   \n",
       "13  PT KAI Tertibkan 165 Bangunan di Kampung Banda...   \n",
       "14  Ini Bendera yang Boleh Dibawa Peserta Istighot...   \n",
       "15      Ditahan KPK, Penyuap Bupati Cirebon Tersenyum   \n",
       "\n",
       "                                              article  \n",
       "0   \\n\\n\\n\\n\\nJakarta -\\n Polisi telah mengamankan...  \n",
       "1   \\n\\n\\n\\n\\nJakarta -\\n Polisi akhirnya menemuka...  \n",
       "2   \\n\\n\\n\\n\\nJakarta -\\n Gempa bumi dengan kekuat...  \n",
       "3   \\n\\n\\n\\n\\nJakarta -\\n Jubir pasangan capres-ca...  \n",
       "4   \\n\\n\\n\\n\\nJakarta -\\n\\t\\t\\t\\t\\t\\t\\t\\t\\t\\t\\tSat...  \n",
       "5   \\n\\n\\n\\n\\nJakarta -\\n\\t\\t\\t\\t\\t\\t\\t\\t\\t\\t\\tRen...  \n",
       "6   \\n\\n\\n\\n\\nJakarta -\\n Sejumlah orang akan mela...  \n",
       "7   \\n\\n\\n\\n\\nJakarta -\\n Seorang pengendara seped...  \n",
       "8   \\n\\n\\n\\n\\nJakarta -\\n Seorang pria tewas akiba...  \n",
       "9   \\n\\n\\n\\n\\nJakarta -\\n\\t\\t\\t\\t\\t\\t\\t\\t\\t\\t\\tSat...  \n",
       "10  \\n\\n\\n\\n\\nJakarta -\\n Garda Nasional untuk Rak...  \n",
       "11  \\n\\n\\n\\n\\nJakarta -\\n\\t\\t\\t\\t\\t\\t\\t\\t\\t\\t\\tPer...  \n",
       "12  \\n\\n\\n\\n\\nJakarta -\\n\\t\\t\\t\\t\\t\\t\\t\\t\\t\\t\\tKPK...  \n",
       "13  \\n\\n\\n\\n\\nJakarta -\\n PT KAI menertibkan 165 b...  \n",
       "14  \\n\\n\\n\\n\\nSurabaya -\\n\\t\\t\\t\\t\\t\\t\\t\\t\\t\\t\\tIs...  \n",
       "15  \\n\\n\\n\\n\\nJakarta -\\n\\t\\t\\t\\t\\t\\t\\t\\t\\t\\t\\tSek...  "
      ]
     },
     "execution_count": 10,
     "metadata": {},
     "output_type": "execute_result"
    }
   ],
   "source": [
    "import pandas as pd\n",
    "table = pd.DataFrame(columns = ['title','article'])\n",
    "\n",
    "table['title'] = titles\n",
    "table['article'] = articles\n",
    "\n",
    "table.head(16)"
   ]
  },
  {
   "cell_type": "code",
   "execution_count": 13,
   "metadata": {},
   "outputs": [],
   "source": [
    "writer = pd.ExcelWriter('resultdetik.xlsx')\n",
    "table.to_excel(writer,'Sheet1',index=False)\n",
    "writer.save()"
   ]
  },
  {
   "cell_type": "code",
   "execution_count": 18,
   "metadata": {},
   "outputs": [],
   "source": []
  },
  {
   "cell_type": "code",
   "execution_count": 19,
   "metadata": {},
   "outputs": [],
   "source": []
  },
  {
   "cell_type": "code",
   "execution_count": null,
   "metadata": {},
   "outputs": [],
   "source": []
  }
 ],
 "metadata": {
  "kernelspec": {
   "display_name": "Python 3",
   "language": "python",
   "name": "python3"
  },
  "language_info": {
   "codemirror_mode": {
    "name": "ipython",
    "version": 3
   },
   "file_extension": ".py",
   "mimetype": "text/x-python",
   "name": "python",
   "nbconvert_exporter": "python",
   "pygments_lexer": "ipython3",
   "version": "3.7.0"
  }
 },
 "nbformat": 4,
 "nbformat_minor": 2
}
