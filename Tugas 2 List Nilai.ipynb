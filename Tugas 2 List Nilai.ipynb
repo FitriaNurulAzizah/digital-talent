{
 "cells": [
  {
   "cell_type": "markdown",
   "metadata": {},
   "source": [
    "# LATIHAN 2\n",
    "\n",
    "Fitria Nurul Azizah\n",
    "\n",
    "Diberikan sekumpulan Nilai Random antara 0 sampai dengan 100 sebanyak 250 nilai. Buatlah program untuk melakukan hal berikut:\n",
    "\n",
    "1. Tampilkan Angka Ganjil dari ke 250 nilai tersebut\n",
    "2. Tampilkan berapa banyak yang mendapatkan nilai lebih dari 70\n",
    "3. Tampilkan standar deviasi dari sekumpulan nilai \n",
    "4. Tampilkan nilai maksimum dan minimum\n",
    "5. Tampilkan modus dari sekumpulan nilai tersebut"
   ]
  },
  {
   "cell_type": "code",
   "execution_count": 1,
   "metadata": {},
   "outputs": [
    {
     "name": "stdout",
     "output_type": "stream",
     "text": [
      "[76, 65, 31, 6, 42, 79, 16, 54, 65, 88, 74, 36, 11, 6, 65, 57, 71, 88, 72, 75, 51, 27, 44, 48, 86, 67, 83, 59, 33, 43, 90, 70, 93, 76, 51, 90, 37, 83, 87, 67, 17, 69, 10, 59, 98, 83, 32, 40, 94, 92, 30, 26, 31, 63, 23, 69, 6, 55, 76, 97, 58, 49, 20, 88, 64, 77, 36, 83, 94, 64, 69, 66, 80, 27, 63, 69, 23, 43, 70, 75, 14, 75, 27, 84, 19, 26, 9, 46, 62, 92, 58, 79, 33, 47, 65, 6, 25, 61, 97, 26, 71, 45, 4, 52, 92, 22, 29, 24, 64, 54, 71, 72, 41, 72, 91, 80, 11, 79, 51, 70, 70, 84, 72, 31, 32, 43, 88, 94, 9, 54, 9, 92, 36, 18, 57, 23, 25, 28, 92, 76, 68, 15, 23, 32, 85, 77, 11, 12, 78, 39, 34, 22, 44, 49, 73, 2, 52, 69, 40, 6, 26, 64, 47, 25, 46, 68, 61, 51, 61, 92, 6, 73, 59, 51, 94, 31, 97, 58, 83, 81, 47, 74, 73, 16, 49, 29, 30, 43, 13, 41, 54, 51, 29, 63, 19, 38, 74, 75, 46, 77, 10, 13, 49, 48, 12, 79, 63, 83, 53, 61, 23, 34, 25, 66, 34, 30, 33, 76, 35, 78, 47, 57, 97, 18, 31, 40, 6, 77, 1, 85, 4, 61, 47, 43, 13, 78, 28, 37, 47, 21, 54, 84, 16, 71, 34, 19, 77, 45, 28, 72]\n"
     ]
    }
   ],
   "source": [
    "import random\n",
    "\n",
    "# GENERATE RANDOM\n",
    "nilaiTugas = []\n",
    "for i in range(250):\n",
    "    nilaiTugas.append(random.randrange(1,100,1))\n",
    "\n",
    "print(nilaiTugas)\n",
    "\n",
    "# TAMPILKAN:\n",
    "# ganjil\n",
    "# nilai > 70\n",
    "# standar deviasi\n",
    "# maksimum\n",
    "# minimum\n",
    "# modus"
   ]
  },
  {
   "cell_type": "code",
   "execution_count": 2,
   "metadata": {},
   "outputs": [],
   "source": [
    "ganjil = []\n",
    "nilai_lebih70 = []\n",
    "n = 0\n",
    "maks = 0\n",
    "mins = 100\n",
    "\n",
    "for r in nilaiTugas:\n",
    "    \n",
    "    #Mencari nilai yang ganjil\n",
    "    if (-1)**r == -1: \n",
    "        ganjil.append(r)\n",
    "        \n",
    "    #Mencari nilai yang lebih dari 70    \n",
    "    if r > 70: \n",
    "        nilai_lebih70.append(r)\n",
    "        n=n+1   \n",
    "        \n",
    "    #Mencari nilai maksimum\n",
    "    if r > maks:\n",
    "        maks = r\n",
    "        \n",
    "    #Mencari nilai minimum\n",
    "    if r < mins:\n",
    "        mins = r\n",
    "   "
   ]
  },
  {
   "cell_type": "code",
   "execution_count": 3,
   "metadata": {},
   "outputs": [
    {
     "name": "stdout",
     "output_type": "stream",
     "text": [
      "Ganjil :\n",
      "[65, 31, 79, 65, 11, 65, 57, 71, 75, 51, 27, 67, 83, 59, 33, 43, 93, 51, 37, 83, 87, 67, 17, 69, 59, 83, 31, 63, 23, 69, 55, 97, 49, 77, 83, 69, 27, 63, 69, 23, 43, 75, 75, 27, 19, 9, 79, 33, 47, 65, 25, 61, 97, 71, 45, 29, 71, 41, 91, 11, 79, 51, 31, 43, 9, 9, 57, 23, 25, 15, 23, 85, 77, 11, 39, 49, 73, 69, 47, 25, 61, 51, 61, 73, 59, 51, 31, 97, 83, 81, 47, 73, 49, 29, 43, 13, 41, 51, 29, 63, 19, 75, 77, 13, 49, 79, 63, 83, 53, 61, 23, 25, 33, 35, 47, 57, 97, 31, 77, 1, 85, 61, 47, 43, 13, 37, 47, 21, 71, 19, 77, 45]\n"
     ]
    }
   ],
   "source": [
    "#Menampilkan nilai yang ganjil\n",
    "print(\"Ganjil :\")\n",
    "print(ganjil)     "
   ]
  },
  {
   "cell_type": "code",
   "execution_count": 4,
   "metadata": {},
   "outputs": [
    {
     "name": "stdout",
     "output_type": "stream",
     "text": [
      "Nilai > 70 :\n",
      "[76, 79, 88, 74, 71, 88, 72, 75, 86, 83, 90, 93, 76, 90, 83, 87, 98, 83, 94, 92, 76, 97, 88, 77, 83, 94, 80, 75, 75, 84, 92, 79, 97, 71, 92, 71, 72, 72, 91, 80, 79, 84, 72, 88, 94, 92, 92, 76, 85, 77, 78, 73, 92, 73, 94, 97, 83, 81, 74, 73, 74, 75, 77, 79, 83, 76, 78, 97, 77, 85, 78, 84, 71, 77, 72]\n",
      "\n",
      "Banyaknya nilai yang lebih dari 70 ada : 75 buah\n"
     ]
    }
   ],
   "source": [
    "#Menampilkan nilai yang lebih dari 70\n",
    "print(\"Nilai > 70 :\")\n",
    "print(nilai_lebih70)\n",
    "print(\"\\nBanyaknya nilai yang lebih dari 70 ada :\", n, \"buah\")"
   ]
  },
  {
   "cell_type": "code",
   "execution_count": 5,
   "metadata": {},
   "outputs": [
    {
     "name": "stdout",
     "output_type": "stream",
     "text": [
      "Standar Deviasi : 26.147642586883542\n"
     ]
    }
   ],
   "source": [
    "total = 0 \n",
    "jmlkuadrat=0\n",
    "\n",
    "#Menghitung rata-rata\n",
    "for m in nilaiTugas:\n",
    "    total = total + m     \n",
    "rata = total / len(nilaiTugas)\n",
    "\n",
    "#Menghitung standar deviasi\n",
    "for j in nilaiTugas:\n",
    "    jmlkuadrat=jmlkuadrat+(j-rata)**2\n",
    "\n",
    "SD=(jmlkuadrat/(len(nilaiTugas)-1))**0.5\n",
    "print(\"Standar Deviasi :\", SD)"
   ]
  },
  {
   "cell_type": "code",
   "execution_count": 37,
   "metadata": {},
   "outputs": [
    {
     "name": "stdout",
     "output_type": "stream",
     "text": [
      "Nilai Maksimum\t: 99\n",
      "Nilai Minimum\t: 1\n"
     ]
    }
   ],
   "source": [
    "#Menampilkan nilai maksimum dan minimum\n",
    "print(\"Nilai Maksimum\\t:\",maks)\n",
    "print(\"Nilai Minimum\\t:\", mins)"
   ]
  },
  {
   "cell_type": "code",
   "execution_count": 6,
   "metadata": {},
   "outputs": [
    {
     "name": "stdout",
     "output_type": "stream",
     "text": [
      "nilai 76 muncul 5 kali\n",
      "nilai 65 muncul 4 kali\n",
      "nilai 31 muncul 5 kali\n",
      "nilai 6 muncul 7 kali\n",
      "nilai 42 muncul 1 kali\n",
      "nilai 79 muncul 4 kali\n",
      "nilai 16 muncul 3 kali\n",
      "nilai 54 muncul 5 kali\n",
      "nilai 88 muncul 4 kali\n",
      "nilai 74 muncul 3 kali\n",
      "nilai 36 muncul 3 kali\n",
      "nilai 11 muncul 3 kali\n",
      "nilai 57 muncul 3 kali\n",
      "nilai 71 muncul 4 kali\n",
      "nilai 72 muncul 5 kali\n",
      "nilai 75 muncul 4 kali\n",
      "nilai 51 muncul 6 kali\n",
      "nilai 27 muncul 3 kali\n",
      "nilai 44 muncul 2 kali\n",
      "nilai 48 muncul 2 kali\n",
      "nilai 86 muncul 1 kali\n",
      "nilai 67 muncul 2 kali\n",
      "nilai 83 muncul 6 kali\n",
      "nilai 59 muncul 3 kali\n",
      "nilai 33 muncul 3 kali\n",
      "nilai 43 muncul 5 kali\n",
      "nilai 90 muncul 2 kali\n",
      "nilai 70 muncul 4 kali\n",
      "nilai 93 muncul 1 kali\n",
      "nilai 37 muncul 2 kali\n",
      "nilai 87 muncul 1 kali\n",
      "nilai 17 muncul 1 kali\n",
      "nilai 69 muncul 5 kali\n",
      "nilai 10 muncul 2 kali\n",
      "nilai 98 muncul 1 kali\n",
      "nilai 32 muncul 3 kali\n",
      "nilai 40 muncul 3 kali\n",
      "nilai 94 muncul 4 kali\n",
      "nilai 92 muncul 6 kali\n",
      "nilai 30 muncul 3 kali\n",
      "nilai 26 muncul 4 kali\n",
      "nilai 63 muncul 4 kali\n",
      "nilai 23 muncul 5 kali\n",
      "nilai 55 muncul 1 kali\n",
      "nilai 97 muncul 4 kali\n",
      "nilai 58 muncul 3 kali\n",
      "nilai 49 muncul 4 kali\n",
      "nilai 20 muncul 1 kali\n",
      "nilai 64 muncul 4 kali\n",
      "nilai 77 muncul 5 kali\n",
      "nilai 66 muncul 2 kali\n",
      "nilai 80 muncul 2 kali\n",
      "nilai 14 muncul 1 kali\n",
      "nilai 84 muncul 3 kali\n",
      "nilai 19 muncul 3 kali\n",
      "nilai 9 muncul 3 kali\n",
      "nilai 46 muncul 3 kali\n",
      "nilai 62 muncul 1 kali\n",
      "nilai 47 muncul 6 kali\n",
      "nilai 25 muncul 4 kali\n",
      "nilai 61 muncul 5 kali\n",
      "nilai 45 muncul 2 kali\n",
      "nilai 4 muncul 2 kali\n",
      "nilai 52 muncul 2 kali\n",
      "nilai 22 muncul 2 kali\n",
      "nilai 29 muncul 3 kali\n",
      "nilai 24 muncul 1 kali\n",
      "nilai 41 muncul 2 kali\n",
      "nilai 91 muncul 1 kali\n",
      "nilai 18 muncul 2 kali\n",
      "nilai 28 muncul 3 kali\n",
      "nilai 68 muncul 2 kali\n",
      "nilai 15 muncul 1 kali\n",
      "nilai 85 muncul 2 kali\n",
      "nilai 12 muncul 2 kali\n",
      "nilai 78 muncul 3 kali\n",
      "nilai 39 muncul 1 kali\n",
      "nilai 34 muncul 4 kali\n",
      "nilai 73 muncul 3 kali\n",
      "nilai 2 muncul 1 kali\n",
      "nilai 81 muncul 1 kali\n",
      "nilai 13 muncul 3 kali\n",
      "nilai 38 muncul 1 kali\n",
      "nilai 53 muncul 1 kali\n",
      "nilai 35 muncul 1 kali\n",
      "nilai 1 muncul 1 kali\n",
      "nilai 21 muncul 1 kali\n",
      "Modus:\n",
      "[6]\n"
     ]
    }
   ],
   "source": [
    "frequensi = {}\n",
    "\n",
    "for t in nilaiTugas:\n",
    "    if t not in frequensi:\n",
    "        frequensi[t] = 0\n",
    "    frequensi[t] = frequensi[t] + 1\n",
    "\n",
    "#Menampilkan\n",
    "for k,v in frequensi.items():\n",
    "    print(\"nilai\", k, \"muncul\", v, \"kali\")\n",
    "\n",
    "#Mencari frequensi yang paling banyak\n",
    "maks_kemunculan = 0\n",
    "\n",
    "for nilai in frequensi:\n",
    "    if frequensi[nilai] > maks_kemunculan:\n",
    "        maks_kemunculan = frequensi[nilai]\n",
    "\n",
    "#Mencari nilai yang memiliki frequensi terbanyak    \n",
    "modus = []\n",
    "for nilai in frequensi:\n",
    "    if frequensi[nilai] == maks_kemunculan:\n",
    "        modus.append(nilai)\n",
    "        \n",
    "print(\"Modus:\")\n",
    "print(modus)"
   ]
  },
  {
   "cell_type": "code",
   "execution_count": null,
   "metadata": {},
   "outputs": [],
   "source": []
  }
 ],
 "metadata": {
  "kernelspec": {
   "display_name": "Python 3",
   "language": "python",
   "name": "python3"
  },
  "language_info": {
   "codemirror_mode": {
    "name": "ipython",
    "version": 3
   },
   "file_extension": ".py",
   "mimetype": "text/x-python",
   "name": "python",
   "nbconvert_exporter": "python",
   "pygments_lexer": "ipython3",
   "version": "3.7.0"
  }
 },
 "nbformat": 4,
 "nbformat_minor": 2
}
