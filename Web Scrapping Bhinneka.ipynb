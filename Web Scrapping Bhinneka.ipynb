{
 "cells": [
  {
   "cell_type": "code",
   "execution_count": 1,
   "metadata": {},
   "outputs": [
    {
     "name": "stdout",
     "output_type": "stream",
     "text": [
      "<class 'bytes'>\n",
      "b'!DOCTYPE html>\\n<html lang=\"id-ID\">\\n\\n<head>\\n    <meta charset=\"utf-8\">\\n    <meta http-equiv=\"X-UA-Compatible\" content=\"IE=edge,chrome=1\">\\n        <link rel=\"canonical\" href=\"https://www.bhinneka.com/search\" />\\n    <title>Mencari Produk - iphone</title>\\n    <meta title=\"Mencari Produk - Iphone\">\\n    <meta name=\"description\" content=\"Toko Online No. 1 dan Terbesar di Indonesia dengan produk LENGKAP, Kualitas TERJAMIN, Harga MURAH, CICILAN 0%, dan GRATIS Pengiriman\">\\n    <meta name=\"robots\" content=\"NOINDEX, FOLLOW, NOODP, NOYDIR\">\\n    <!-- <meta name=\"twitter:title\" content=\"Mencari Produk - Iphone\">\\n    <meta name=\"twitter:url\" content=\"https://www.bhinneka.com/search?q=iphone\">\\n    <meta name=\"twitter:description\" content=\"Toko Online No. 1 dan Terbesar di Indonesia dengan produk LENGKAP, Kualitas TERJAMIN, Harga MURAH, CICILAN 0%, dan GRATIS Pengiriman\">\\n    <meta name=\"twitter:image\" content=\"\">\\n    <meta property=\"og:title\" content=\"Mencari Produk - Iphone\">\\n    <meta property=\"og:url\" content=\"https://www.bhinneka.com/search?q=iphone\">\\n    <meta property=\"og:type\" content=\"product\">\\n    <meta property=\"og:description\" content=\"Toko Online No. 1 dan Terbesar di Indonesia dengan produk LENGKAP, Kualitas TERJAMIN, Harga MURAH, CICILAN 0%, dan GRATIS Pengiriman\">\\n    <meta property=\"og:image\" content=\"\">\\n    <meta property=\"og:site_name\" content=\"Bhinneka.com\"> -->\\n        <meta name=\"keywords\" content=\"Mencari Produk - iphone\">\\n    <meta name=\"viewport\" content=\"width=device-width, maximum-scale=1, minimum-scale=1, user-scalable=no\">\\n    <!-- Favicon-->\\n    <link rel=\"apple-touch-icon-precomposed\" href=\"//static.bmdstatic.com/sf/assets/img/favicons/favicon-152.png?v=1\">\\n    <link rel=\"apple-touch-icon-precomposed\" sizes=\"152x152\" href=\"//static.bmdstatic.com/sf/assets/img/favicons/favicon-152.png?v=1\">\\n    <link rel=\"apple-touch-icon-precomposed\" sizes=\"144x144\" href=\"//static.bmdstatic.com/sf/assets/img/favicons/favicon-144.png?v=1\">\\n    <link rel=\"apple-touch-ico'\n"
     ]
    }
   ],
   "source": [
    "from urllib.request import urlopen\n",
    "keyword = \"iphone\"\n",
    "html = urlopen(\"https://www.bhinneka.com/search?q=\"+keyword).read()\n",
    "print(type(html)) #tipe data\n",
    "print(html[1:2000]) #1000 karakter pertama"
   ]
  },
  {
   "cell_type": "code",
   "execution_count": 2,
   "metadata": {},
   "outputs": [
    {
     "name": "stdout",
     "output_type": "stream",
     "text": [
      "<class 'bs4.BeautifulSoup'>\n",
      "!DOCTYPE html>\n",
      "<html lang=\"id-ID\">\n",
      " <head>\n",
      "  <meta charset=\"utf-8\"/>\n",
      "  <meta content=\"IE=edge,chrome=1\" http-equiv=\"X-UA-Compatible\"/>\n",
      "  <link href=\"https://www.bhinneka.com/search\" rel=\"canonical\"/>\n",
      "  <title>\n",
      "   Mencari Produk - iphone\n",
      "  </title>\n",
      "  <meta title=\"Mencari Produk - Iphone\"/>\n",
      "  <meta content=\"Toko Online No. 1 dan Terbesar di Indonesia dengan produk LENGKAP, Kualitas TERJAMIN, Harga MURAH, CICILAN 0%, dan GRATIS Pengiriman\" name=\"description\"/>\n",
      "  <meta content=\"NOINDEX, FOLLOW, NOODP, NOYDIR\" name=\"robots\"/>\n",
      "  <!-- <meta name=\"twitter:title\" content=\"Mencari Produk - Iphone\">\n",
      "    <meta name=\"twitter:url\" content=\"https://www.bhinneka.com/search?q=iphone\">\n",
      "    <meta name=\"twitter:description\" content=\"Toko Online No. 1 dan Terbesar di Indonesia dengan produk LENGKAP, Kualitas TERJAMIN, Harga MURAH, CICILAN 0%, dan GRATIS Pengiriman\">\n",
      "    <meta name=\"twitter:image\" content=\"\">\n",
      "    <meta property=\"og:title\" content=\"Mencari Produk - Iphone\">\n",
      "    <meta property=\"og:url\" content=\"https://www.bhinneka.com/search?q=iphone\">\n",
      "    <meta property=\"og:type\" content=\"product\">\n",
      "    <meta property=\"og:description\" content=\"Toko Online No. 1 dan Terbesar di Indonesia dengan produk LENGKAP, Kualitas TERJAMIN, Harga MURAH, CICILAN 0%, dan GRATIS Pengiriman\">\n",
      "    <meta property=\"og:image\" content=\"\">\n",
      "    <meta property=\"og:site_name\" content=\"Bhinneka.com\"> -->\n",
      "  <meta content=\"Mencari Produk - iphone\" name=\"keywords\"/>\n",
      "  <meta content=\"width=device-width, maximum-scale=1, minimum-scale=1, user-scalable=no\" name=\"viewport\"/>\n",
      "  <!-- Favicon-->\n",
      "  <link href=\"//static.bmdstatic.com/sf/assets/img/favicons/favicon-152.png?v=1\" rel=\"apple-touch-icon-precomposed\"/>\n",
      "  <link href=\"//static.bmdstatic.com/sf/assets/img/favicons/favicon-152.png?v=1\" rel=\"apple-touch-icon-precomposed\" sizes=\"152x152\"/>\n",
      "  <link href=\"//static.bmdstatic.com/sf/assets/img/favicons/favicon-144.png?v=1\" rel=\"apple-touch-icon-precomposed\" sizes=\"144x144\"/>\n",
      "  <link href=\"//static.bmdstatic.com/sf/assets/img\n"
     ]
    }
   ],
   "source": [
    "from bs4 import BeautifulSoup\n",
    "soup = BeautifulSoup(html, \"lxml\")\n",
    "print(type(soup))\n",
    "print(soup.prettify()[1:2000])"
   ]
  },
  {
   "cell_type": "code",
   "execution_count": 3,
   "metadata": {},
   "outputs": [
    {
     "ename": "SyntaxError",
     "evalue": "invalid syntax (<ipython-input-3-144a1d681e52>, line 3)",
     "output_type": "error",
     "traceback": [
      "\u001b[1;36m  File \u001b[1;32m\"<ipython-input-3-144a1d681e52>\"\u001b[1;36m, line \u001b[1;32m3\u001b[0m\n\u001b[1;33m    print b.find(\"a\",\"bt-typo-heading bt-product-list-title\").get_text()\u001b[0m\n\u001b[1;37m          ^\u001b[0m\n\u001b[1;31mSyntaxError\u001b[0m\u001b[1;31m:\u001b[0m invalid syntax\n"
     ]
    }
   ],
   "source": [
    "produk = soup.find_all(\"div\",\"col-lg-3 col-md-4 col-sm-6 bt-product-list\") \n",
    "for b in produk:\n",
    "    print b.find(\"a\",\"bt-typo-heading bt-product-list-title\").get_text()   \n",
    "    print b.find(\"p\",\"bt-typo-heading bt-product-webPrice\").get_text()"
   ]
  },
  {
   "cell_type": "code",
   "execution_count": null,
   "metadata": {},
   "outputs": [],
   "source": []
  },
  {
   "cell_type": "code",
   "execution_count": null,
   "metadata": {},
   "outputs": [],
   "source": []
  },
  {
   "cell_type": "code",
   "execution_count": null,
   "metadata": {},
   "outputs": [],
   "source": []
  }
 ],
 "metadata": {
  "kernelspec": {
   "display_name": "Python 3",
   "language": "python",
   "name": "python3"
  },
  "language_info": {
   "codemirror_mode": {
    "name": "ipython",
    "version": 3
   },
   "file_extension": ".py",
   "mimetype": "text/x-python",
   "name": "python",
   "nbconvert_exporter": "python",
   "pygments_lexer": "ipython3",
   "version": "3.7.0"
  }
 },
 "nbformat": 4,
 "nbformat_minor": 2
}
